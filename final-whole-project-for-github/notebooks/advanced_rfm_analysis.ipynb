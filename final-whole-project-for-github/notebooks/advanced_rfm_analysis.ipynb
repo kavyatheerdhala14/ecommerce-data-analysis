{
    "cells": [
        {
            "cell_type": "markdown",
            "source": [
                "# \u26a1\ufe0f Advanced RFM Segmentation Notebook\n",
                "Performing RFM Segmentation for customer metrics."
            ],
            "metadata": {}
        },
        {
            "cell_type": "code",
            "source": [
                "import pandas as pd\n",
                "import numpy as np\n",
                "customer_metrics = pd.read_csv(\"../data/results/customer_metrics.csv\")\n",
                "customer_metrics.head()"
            ],
            "metadata": {},
            "execution_count": null,
            "outputs": []
        },
        {
            "cell_type": "code",
            "source": [
                "# Perform RFM Segmentation\n",
                "customer_metrics['R_score'] = pd.qcut(customer_metrics['recency_days'], 4, labels=[4,3,2,1])\n",
                "customer_metrics['F_score'] = pd.qcut(customer_metrics['frequency'], 4, labels=[1,2,3,4])\n",
                "customer_metrics['M_score'] = pd.qcut(customer_metrics['monetary'], 4, labels=[1,2,3,4])"
            ],
            "metadata": {},
            "execution_count": null,
            "outputs": []
        },
        {
            "cell_type": "code",
            "source": [
                "# Final RFM Score\n",
                "customer_metrics['RFM_score'] = customer_metrics['R_score'].astype(str) + customer_metrics['F_score'].astype(str) + customer_metrics['M_score'].astype(str)\n",
                "customer_metrics.to_csv(\"../data/results/customer_metrics_rfm.csv\", index=False)"
            ],
            "metadata": {},
            "execution_count": null,
            "outputs": []
        }
    ],
    "metadata": {
        "name": "advanced_rfm_analysis_notebook",
        "language_info": {
            "name": "python",
            "version": "3.10.0"
        }
    },
    "nbformat": 4,
    "nbformat_minor": 5
}