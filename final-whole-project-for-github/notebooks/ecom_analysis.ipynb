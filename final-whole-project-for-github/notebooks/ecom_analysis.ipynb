{
    "cells": [
        {
            "cell_type": "markdown",
            "source": [
                "# \ud83d\udecd\ufe0f E-commerce Analysis Notebook\n",
                "Performing trend and category sales analysis."
            ],
            "metadata": {}
        },
        {
            "cell_type": "code",
            "source": [
                "import pandas as pd\n",
                "import numpy as np\n",
                "import matplotlib.pyplot as plt\n",
                "import seaborn as sns\n",
                "# Load sample data\n",
                "data = pd.read_csv(\"../data/sample_data.csv\")\n",
                "data['order_date'] = pd.to_datetime(data['order_date'])"
            ],
            "metadata": {},
            "execution_count": null,
            "outputs": []
        },
        {
            "cell_type": "code",
            "source": [
                "# Sales trend over time\n",
                "trend = data.groupby(data['order_date'].dt.to_period(\"M\"))['order_amount'].sum().reset_index()\n",
                "trend['order_date'] = trend['order_date'].dt.to_timestamp()\n",
                "trend.to_csv(\"../data/results/sales_trend.csv\", index=False)"
            ],
            "metadata": {},
            "execution_count": null,
            "outputs": []
        },
        {
            "cell_type": "code",
            "source": [
                "# Category sales\n",
                "category_sales = data.groupby(\"category\")['order_amount'].sum().reset_index()\n",
                "category_sales.to_csv(\"../data/results/category_sales.csv\", index=False)"
            ],
            "metadata": {},
            "execution_count": null,
            "outputs": []
        }
    ],
    "metadata": {
        "name": "ecom_analysis_notebook",
        "language_info": {
            "name": "python",
            "version": "3.10.0"
        }
    },
    "nbformat": 4,
    "nbformat_minor": 5
}